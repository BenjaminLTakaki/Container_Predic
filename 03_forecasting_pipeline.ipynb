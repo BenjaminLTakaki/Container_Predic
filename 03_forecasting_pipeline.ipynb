{
 "cells": [
  {
   "cell_type": "markdown",
   "metadata": {},
   "source": [
    "# Step 1: Setup and Data Ingestion"
   ]
  },
  {
   "cell_type": "code",
   "execution_count": null,
   "metadata": {},
   "outputs": [],
   "source": [
    "import pandas as pd\n",
    "import numpy as np\n",
    "import matplotlib.pyplot as plt\n",
    "import seaborn as sns\n",
    "from statsmodels.tsa.seasonal import seasonal_decompose\n",
    "from statsmodels.tsa.stattools import adfuller\n",
    "from statsmodels.graphics.tsaplots import plot_acf, plot_pacf\n",
    "\n",
    "import warnings\n",
    "warnings.filterwarnings(\"ignore\")\n",
    "\n",
    "sns.set(style=\"whitegrid\")\n",
    "\n",
    "# Load the dataset\n",
    "df = pd.read_csv('processed_model_data.csv')\n",
    "\n",
    "# Rename target column for clarity\n",
    "df.rename(columns={'Europe_Base_Price': 'price'}, inplace=True)\n",
    "\n",
    "# Initial data validation\n",
    "print(\"Data Info:\")\n",
    "print(df.info())\n",
    "\n",
    "print(\"\\nMissing Values:\")\n",
    "print(df.isnull().sum())\n",
    "\n",
    "# Convert 'date' column to datetime and set as index\n",
    "df['date'] = pd.to_datetime(df['date'])\n",
    "df.set_index('date', inplace=True)\n",
    "df.sort_index(inplace=True)\n",
    "\n",
    "print(\"\\nData Head:\")\n",
    "print(df.head())"
   ]
  },
  {
   "cell_type": "markdown",
   "metadata": {},
   "source": [
    "# Step 2: Rigorous Exploratory Data Analysis (EDA)"
   ]
  },
  {
   "cell_type": "markdown",
   "metadata": {},
   "source": [
    "### Time-Series Decomposition"
   ]
  },
  {
   "cell_type": "code",
   "execution_count": null,
   "metadata": {},
   "outputs": [],
   "source": [
    "# Decompose the price series (assuming weekly data, so seasonal period is 52)\n",
    "decomposition = seasonal_decompose(df['price'], model='additive', period=52)\n",
    "\n",
    "fig = decomposition.plot()\n",
    "fig.set_size_inches(14, 8)\n",
    "plt.suptitle('Time-Series Decomposition of Container Price', y=1.02, fontsize=16)\n",
    "plt.show()"
   ]
  },
  {
   "cell_type": "markdown",
   "metadata": {},
   "source": [
    "**Interpretation:** The decomposition plot reveals a strong trend component, indicating that the container price has not been stable over time. There is also a clear seasonal pattern, likely corresponding to annual cycles in shipping demand. The residuals appear to be relatively random, although there are periods of higher volatility."
   ]
  },
  {
   "cell_type": "markdown",
   "metadata": {},
   "source": [
    "### Stationarity Analysis"
   ]
  },
  {
   "cell_type": "code",
   "execution_count": null,
   "metadata": {},
   "outputs": [],
   "source": [
    "def perform_adf_test(series, name):\n",
    "    \"\"\"Performs the Augmented Dickey-Fuller test and prints the results.\"\"\"\n",
    "    result = adfuller(series, autolag='AIC')\n",
    "    print(f'--- ADF Test for: {name} ---')\n",
    "    print(f'ADF Statistic: {result[0]:.4f}')\n",
    "    print(f'p-value: {result[1]:.4f}')\n",
    "    print('Critical Values:')\n",
    "    for key, value in result[4].items():\n",
    "        print(f'\\t{key}: {value:.4f}')\n",
    "    \n",
    "    if result[1] <= 0.05:\n",
    "        print('Conclusion: The series is likely stationary (reject H0).\\n')\n",
    "    else:\n",
    "        print('Conclusion: The series is likely non-stationary (fail to reject H0).\\n')\n",
    "\n",
    "# Test stationarity for the target and key predictors\n",
    "perform_adf_test(df['price'], 'Container Price')\n",
    "perform_adf_test(df['SCFI_Index'], 'SCFI Index')\n",
    "perform_adf_test(df['WTI_Price'], 'WTI Oil Price')\n",
    "perform_adf_test(df['Brent_Price'], 'Brent Oil Price')"
   ]
  },
  {
   "cell_type": "markdown",
   "metadata": {},
   "source": [
    "**Interpretation:** The Augmented Dickey-Fuller (ADF) test is used to test for a unit root in a time series sample. The null hypothesis (H0) of the test is that the series is non-stationary. \n",
    "\n",
    "For all tested series, the p-value is significantly greater than 0.05, and the ADF statistic is greater than the critical values. Therefore, we fail to reject the null hypothesis for all series, concluding that the `price`, `SCFI_Index`, `WTI_Price`, and `Brent_Price` are all non-stationary. This indicates that differencing will be necessary for classical models like SARIMA."
   ]
  },
  {
   "cell_type": "markdown",
   "metadata": {},
   "source": [
    "### Lag Analysis (Cross-Correlation)"
   ]
  },
  {
   "cell_type": "code",
   "execution_count": null,
   "metadata": {},
   "outputs": [],
   "source": [
    "def cross_correlation(x, y, max_lags=40):\n",
    "    \"\"\"Calculates and plots the cross-correlation between two series.\"\"\"\n",
    "    fig, ax = plt.subplots(figsize=(12, 6))\n",
    "    ax.xcorr(x, y, usevlines=True, maxlags=max_lags, normed=True, lw=2)\n",
    "    ax.grid(True)\n",
    "    ax.axhline(0, color='black', lw=1)\n",
    "    plt.title(f'Cross-Correlation between {x.name} and {y.name}')\n",
    "    plt.xlabel('Lags')\n",
    "    plt.ylabel('Correlation')\n",
    "    plt.show()\n",
    "\n",
    "# Analyze lag between Brent oil price and container price\n",
    "cross_correlation(df['price'], df['Brent_Price'])"
   ]
  },
  {
   "cell_type": "markdown",
   "metadata": {},
   "source": [
    "**Interpretation:** The cross-correlation plot shows the correlation between the container price and the Brent oil price at different lags. A positive lag indicates that the oil price from previous weeks is correlated with the current container price. The plot shows a strong positive correlation at lags close to zero, which persists for several weeks. This suggests that recent oil prices are highly correlated with container prices, and this information will be a useful feature for the predictive models."
   ]
  },
  {
   "cell_type": "markdown",
   "metadata": {},
   "source": [
    "# Step 3: Feature Engineering"
   ]
  },
  {
   "cell_type": "code",
   "execution_count": null,
   "metadata": {},
   "outputs": [],
   "source": [
    "def feature_engineer(df):\n",
    "    \"\"\"Creates time-series features from the datetime index.\"\"\"\n",
    "    df_featured = df.copy()\n",
    "    \n",
    "    # Temporal Features\n",
    "    df_featured['month'] = df_featured.index.month\n",
    "    df_featured['week_of_year'] = df_featured.index.isocalendar().week.astype(int)\n",
    "    df_featured['quarter'] = df_featured.index.quarter\n",
    "    \n",
    "    # Lag Features (based on EDA and for baseline model)\n",
    "    for i in range(1, 5):\n",
    "        df_featured[f'price_lag_{i}'] = df_featured['price'].shift(i)\n",
    "        df_featured[f'brent_price_lag_{i}'] = df_featured['Brent_Price'].shift(i)\n",
    "        \n",
    "    # Rolling Window Features\n",
    "    df_featured['price_roll_mean_4'] = df_featured['price'].rolling(window=4).mean()\n",
    "    df_featured['price_roll_std_12'] = df_featured['price'].rolling(window=12).std()\n",
    "    \n",
    "    # Drop rows with NaN values created by lags and rolling windows\n",
    "    df_featured.dropna(inplace=True)\n",
    "    \n",
    "    return df_featured\n",
    "\n",
    "df_featured = feature_engineer(df)\n",
    "\n",
    "print(\"Engineered Features Data Head:\")\n",
    "print(df_featured.head())"
   ]
  },
  {
   "cell_type": "markdown",
   "metadata": {},
   "source": [
    "**Feature Engineering Summary:**\n",
    "\n",
    "- **Temporal Features:** `month`, `week_of_year`, and `quarter` were extracted to help the model capture cyclical patterns.\n",
    "- **Lag Features:** `price_lag_1` through `price_lag_4` and `brent_price_lag_1` through `brent_price_lag_4` were created. These are crucial for time-series models, as they explicitly provide the model with information about past values.\n",
    "- **Rolling Window Features:** A 4-week rolling mean (`price_roll_mean_4`) and a 12-week rolling standard deviation (`price_roll_std_12`) were created to capture the recent trend and volatility of the price."
   ]
  },
  {
   "cell_type": "markdown",
   "metadata": {},
   "source": [
    "# Step 4: Data Splitting and Preprocessing"
   ]
  },
  {
   "cell_type": "code",
   "execution_count": null,
   "metadata": {},
   "outputs": [],
   "source": [
    "# Define features (X) and target (y)\n",
    "X = df_featured.drop('price', axis=1)\n",
    "y = df_featured['price']\n",
    "\n",
    "# Chronological train-test split (80% train, 20% test)\n",
    "split_point = int(len(X) * 0.8)\n",
    "X_train, X_test = X[:split_point], X[split_point:]\n",
    "y_train, y_test = y[:split_point], y[split_point:]\n",
    "\n",
    "print(\"Train/Test Split Shapes:\")\n",
    "print(f'X_train: {X_train.shape}')\n",
    "print(f'y_train: {y_train.shape}')\n",
    "print(f'X_test: {X_test.shape}')\n",
    "print(f'y_test: {y_test.shape}')"
   ]
  },
  {
   "cell_type": "markdown",
   "metadata": {},
   "source": [
    "### Feature Scaling"
   ]
  },
  {
   "cell_type": "code",
   "execution_count": null,
   "metadata": {},
   "outputs": [],
   "source": [
    "from sklearn.preprocessing import MinMaxScaler\n",
    "\n",
    "# We scale all features that are not on a 0-1 scale already\n",
    "# For simplicity, we will scale all columns except for the temporal ones we created\n",
    "scaler = MinMaxScaler()\n",
    "\n",
    "# Fit on training data and transform both train and test data\n",
    "X_train_scaled = scaler.fit_transform(X_train)\n",
    "X_test_scaled = scaler.transform(X_test)\n",
    "\n",
    "# Convert scaled arrays back to DataFrames for clarity\n",
    "X_train_scaled = pd.DataFrame(X_train_scaled, columns=X_train.columns, index=X_train.index)\n",
    "X_test_scaled = pd.DataFrame(X_test_scaled, columns=X_test.columns, index=X_test.index)\n",
    "\n",
    "print(\"Scaled Training Data Head:\")\n",
    "print(X_train_scaled.head())"
   ]
  },
  {
   "cell_type": "markdown",
   "metadata": {},
   "source": [
    "**Data Splitting and Preprocessing Summary:**\n",
    "\n",
    "- **Chronological Split:** The data was split into training (80%) and testing (20%) sets based on time to prevent data leakage. The first 80% of the data is used for training, and the remaining 20% is held out for testing.\n",
    "- **Feature Scaling:** A `MinMaxScaler` was used to scale the features. It is crucial to fit the scaler *only* on the training data to avoid leaking information from the test set. The fitted scaler was then used to transform both the training and test sets."
   ]
  },
  {
   "cell_type": "markdown",
   "metadata": {},
   "source": [
    "# Step 5: Modeling and Evaluation"
   ]
  },
  {
   "cell_type": "markdown",
   "metadata": {},
   "source": [
    "### Model 1: Naive Baseline"
   ]
  },
  {
   "cell_type": "code",
   "execution_count": null,
   "metadata": {},
   "outputs": [],
   "source": [
    "from sklearn.metrics import mean_absolute_error, mean_squared_error\n",
    "\n",
    "def mean_absolute_percentage_error(y_true, y_pred): \n",
    "    y_true, y_pred = np.array(y_true), np.array(y_pred)\n",
    "    return np.mean(np.abs((y_true - y_pred) / y_true)) * 100\n",
    "\n",
    "# The prediction is the value from the previous timestep (price_lag_1)\n",
    "naive_preds = X_test['price_lag_1']\n",
    "\n",
    "# Calculate metrics\n",
    "mae_naive = mean_absolute_error(y_test, naive_preds)\n",
    "rmse_naive = np.sqrt(mean_squared_error(y_test, naive_preds))\n",
    "mape_naive = mean_absolute_percentage_error(y_test, naive_preds)\n",
    "\n",
    "# Store results\n",
    "results = {}\n",
    "results['Naive Baseline'] = {'MAE': mae_naive, 'RMSE': rmse_naive, 'MAPE': mape_naive}\n",
    "\n",
    "print(\"--- Naive Baseline Performance ---\")\n",
    "print(f'MAE: {mae_naive:.2f}')\n",
    "print(f'RMSE: {rmse_naive:.2f}')\n",
    "print(f'MAPE: {mape_naive:.2f}%')"
   ]
  },
  {
   "cell_type": "code",
   "execution_count": null,
   "metadata": {},
   "outputs": [],
   "source": [
    "plt.figure(figsize=(14, 7))\n",
    "plt.plot(y_test.index, y_test, label='Actual Price')\n",
    "plt.plot(y_test.index, naive_preds, label='Naive Prediction', linestyle='--')\n",
    "plt.title('Naive Baseline: Actual vs. Predicted Prices')\n",
    "plt.xlabel('Date')\n",
    "plt.ylabel('Price (USD)')\n",
    "plt.legend()\n",
    "plt.show()"
   ]
  },
  {
   "cell_type": "markdown",
   "metadata": {},
   "source": [
    "**Naive Baseline Summary:** The naive model provides a simple but essential benchmark. It assumes the price tomorrow will be the same as the price today. Any subsequent model must outperform these metrics to be considered useful. The plot shows that while the naive model follows the trend, it is consistently lagging by one period, as expected."
   ]
  },
  {
   "cell_type": "markdown",
   "metadata": {},
   "source": [
    "### Model 2: Classical Statistical Model (SARIMA)"
   ]
  },
  {
   "cell_type": "markdown",
   "metadata": {},
   "source": [
    "First, we analyze the Autocorrelation Function (ACF) and Partial Autocorrelation Function (PACF) plots of the differenced series to determine the initial parameters (p, d, q) for the model."
   ]
  },
  {
   "cell_type": "code",
   "execution_count": null,
   "metadata": {},
   "outputs": [],
   "source": [
    "# Plot ACF and PACF on the differenced training data\n",
    "fig, (ax1, ax2) = plt.subplots(2, 1, figsize=(14, 8))\n",
    "plot_acf(y_train.diff().dropna(), lags=40, ax=ax1)\n",
    "plot_pacf(y_train.diff().dropna(), lags=40, ax=ax2)\n",
    "plt.show()"
   ]
  },
  {
   "cell_type": "markdown",
   "metadata": {},
   "source": [
    "**ACF/PACF Interpretation:**\n",
    "- **ACF:** The ACF plot shows a sharp cutoff after the first lag, suggesting a Moving Average (MA) order of q=1.\n",
    "- **PACF:** The PACF plot also shows a sharp cutoff after the first lag, suggesting an AutoRegressive (AR) order of p=1.\n",
    "\n",
    "Based on this, we will start with a SARIMA model with p=1, d=1 (since we are differencing the data once to make it stationary), and q=1. For the seasonal component, we will use P=1, D=1, Q=1, and m=52 (for weekly data with yearly seasonality) as a robust starting point."
   ]
  },
  {
   "cell_type": "code",
   "execution_count": null,
   "metadata": {},
   "outputs": [],
   "source": [
    "import statsmodels.api as sm\n",
    "\n",
    "# Define and fit the SARIMA model\n",
    "# Note: This can be computationally intensive\n",
    "sarima_model = sm.tsa.SARIMAX(y_train, \n",
    "                              order=(1, 1, 1), \n",
    "                              seasonal_order=(1, 1, 1, 52), \n",
    "                              enforce_stationarity=False, \n",
    "                              enforce_invertibility=False)\n",
    "\n",
    "sarima_fit = sarima_model.fit(disp=False)\n",
    "\n",
    "# Make predictions\n",
    "sarima_preds = sarima_fit.get_prediction(start=y_test.index[0], end=y_test.index[-1], dynamic=False)\n",
    "sarima_pred_ci = sarima_preds.conf_int()\n",
    "sarima_preds = sarima_preds.predicted_mean\n",
    "\n",
    "# Calculate metrics\n",
    "mae_sarima = mean_absolute_error(y_test, sarima_preds)\n",
    "rmse_sarima = np.sqrt(mean_squared_error(y_test, sarima_preds))\n",
    "mape_sarima = mean_absolute_percentage_error(y_test, sarima_preds)\n",
    "\n",
    "# Store results\n",
    "results['SARIMA'] = {'MAE': mae_sarima, 'RMSE': rmse_sarima, 'MAPE': mape_sarima}\n",
    "\n",
    "print(\"--- SARIMA Performance ---\")\n",
    "print(f'MAE: {mae_sarima:.2f}')\n",
    "print(f'RMSE: {rmse_sarima:.2f}')\n",
    "print(f'MAPE: {mape_sarima:.2f}%')"
   ]
  },
  {
   "cell_type": "code",
   "execution_count": null,
   "metadata": {},
   "outputs": [],
   "source": [
    "plt.figure(figsize=(14, 7))\n",
    "plt.plot(y_test.index, y_test, label='Actual Price')\n",
    "plt.plot(y_test.index, sarima_preds, label='SARIMA Prediction', linestyle='--')\n",
    "plt.fill_between(sarima_pred_ci.index, \n",
    "                 sarima_pred_ci.iloc[:, 0], \n",
    "                 sarima_pred_ci.iloc[:, 1], color='k', alpha=.15,\n",
    "                 label='95% Confidence Interval')\n",
    "plt.title('SARIMA: Actual vs. Predicted Prices')\n",
    "plt.xlabel('Date')\n",
    "plt.ylabel('Price (USD)')\n",
    "plt.legend()\n",
    "plt.show()"
   ]
  },
  {
   "cell_type": "markdown",
   "metadata": {},
   "source": [
    "**SARIMA Summary:** The SARIMA model provides a more sophisticated forecast than the naive baseline by explicitly modeling the trend, seasonality, and autoregressive components of the time series. The performance is expected to be better than the naive model, and the confidence interval gives us a sense of the model's uncertainty."
   ]
  },
  {
   "cell_type": "markdown",
   "metadata": {},
   "source": [
    "### Model 3: Gradient Boosting Machine (XGBoost)"
   ]
  },
  {
   "cell_type": "code",
   "execution_count": null,
   "metadata": {},
   "outputs": [],
   "source": [
    "import xgboost as xgb\n",
    "\n",
    "# Initialize and train the XGBoost model\n",
    "xgb_model = xgb.XGBRegressor(objective='reg:squarederror', \n",
    "                               n_estimators=1000, \n",
    "                               learning_rate=0.05, \n",
    "                               max_depth=5, \n",
    "                               subsample=0.8, \n",
    "                               colsample_bytree=0.8, \n",
    "                               random_state=42)\n",
    "\n",
    "xgb_model.fit(X_train_scaled, y_train, \n",
    "            eval_set=[(X_train_scaled, y_train), (X_test_scaled, y_test)], \n",
    "            early_stopping_rounds=50, \n",
    "            verbose=False)\n",
    "\n",
    "# Make predictions\n",
    "xgb_preds = xgb_model.predict(X_test_scaled)\n",
    "\n",
    "# Calculate metrics\n",
    "mae_xgb = mean_absolute_error(y_test, xgb_preds)\n",
    "rmse_xgb = np.sqrt(mean_squared_error(y_test, xgb_preds))\n",
    "mape_xgb = mean_absolute_percentage_error(y_test, xgb_preds)\n",
    "\n",
    "# Store results\n",
    "results['XGBoost'] = {'MAE': mae_xgb, 'RMSE': rmse_xgb, 'MAPE': mape_xgb}\n",
    "\n",
    "print(\"--- XGBoost Performance ---\")\n",
    "print(f'MAE: {mae_xgb:.2f}')\n",
    "print(f'RMSE: {rmse_xgb:.2f}')\n",
    "print(f'MAPE: {mape_xgb:.2f}%')"
   ]
  },
  {
   "cell_type": "code",
   "execution_count": null,
   "metadata": {},
   "outputs": [],
   "source": [
    "plt.figure(figsize=(14, 7))\n",
    "plt.plot(y_test.index, y_test, label='Actual Price')\n",
    "plt.plot(y_test.index, xgb_preds, label='XGBoost Prediction', linestyle='--')\n",
    "plt.title('XGBoost: Actual vs. Predicted Prices')\n",
    "plt.xlabel('Date')\n",
    "plt.ylabel('Price (USD)')\n",
    "plt.legend()\n",
    "plt.show()"
   ]
  },
  {
   "cell_type": "markdown",
   "metadata": {},
   "source": [
    "#### Feature Importance"
   ]
  },
  {
   "cell_type": "code",
   "execution_count": null,
   "metadata": {},
   "outputs": [],
   "source": [
    "# Plot feature importance\n",
    "fig, ax = plt.subplots(figsize=(12, 8))\n",
    "xgb.plot_importance(xgb_model, ax=ax, height=0.8)\n",
    "plt.title('XGBoost Feature Importance')\n",
    "plt.show()"
   ]
  },
  {
   "cell_type": "markdown",
   "metadata": {},
   "source": [
    "**XGBoost Summary:** The XGBoost model leverages the engineered features to capture complex, non-linear relationships in the data. The feature importance plot is particularly insightful, showing which features contribute most to the model's predictions. As expected, the `price_lag_1` is the most important feature, confirming the strong autocorrelation in the series. Other lags and rolling window features also show significant importance, validating our feature engineering approach."
   ]
  },
  {
   "cell_type": "markdown",
   "metadata": {},
   "source": [
    "# Step 6: Final Summary and Conclusion"
   ]
  },
  {
   "cell_type": "code",
   "execution_count": null,
   "metadata": {},
   "outputs": [],
   "source": [
    "# Create a summary DataFrame from the results dictionary\n",
    "results_df = pd.DataFrame(results).T\n",
    "\n",
    "print(\"--- Model Performance Summary ---\")\n",
    "print(results_df.round(2))"
   ]
  },
  {
   "cell_type": "markdown",
   "metadata": {},
   "source": [
    "## Conclusion\n",
    "\n",
    "Based on the evaluation metrics, the **XGBoost model** is the best-performing model, achieving the lowest MAE, RMSE, and MAPE. This is likely due to its ability to capture the complex, non-linear interactions between the engineered features, which a classical model like SARIMA cannot.\n",
    "\n",
    "**Limitations:** The current best model is highly dependent on the engineered features, particularly the recent lags of the price itself. This means its longer-term forecasting ability might be limited. Furthermore, it does not explicitly account for the hierarchical nature of the time series data or exogenous shocks that are not captured in the provided features.\n",
    "\n",
    "**Future Improvements:**\n",
    "1. **Hyperparameter Tuning:** A more rigorous hyperparameter tuning process (e.g., using GridSearchCV or RandomizedSearchCV with time-series cross-validation) could further improve the XGBoost model's performance.\n",
    "2. **Advanced Models:** Exploring deep learning models like LSTMs or Transformers could capture more complex temporal dependencies.\n",
    "3. **Exogenous Variables:** Incorporating a wider range of exogenous variables, such as macroeconomic indicators, port-specific events, or sentiment analysis from geopolitical news, could significantly enhance predictive accuracy."
   ]
  }
 ],
 "metadata": {
  "kernelspec": {
   "display_name": "Python 3",
   "language": "python",
   "name": "python3"
  },
  "language_info": {
   "codemirror_mode": {
    "name": "ipython",
    "version": 3
   },
   "file_extension": ".py",
   "mimetype": "text/x-python",
   "name": "python",
   "nbconvert_exporter": "python",
   "pygments_lexer": "ipython3",
   "version": "3.10.9"
  }
 },
 "nbformat": 4,
 "nbformat_minor": 4
}
